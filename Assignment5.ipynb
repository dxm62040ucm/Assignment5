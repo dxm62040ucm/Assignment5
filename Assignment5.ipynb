{
  "nbformat": 4,
  "nbformat_minor": 0,
  "metadata": {
    "colab": {
      "provenance": []
    },
    "kernelspec": {
      "name": "python3",
      "display_name": "Python 3"
    },
    "language_info": {
      "name": "python"
    }
  },
  "cells": [
    {
      "cell_type": "code",
      "execution_count": 1,
      "metadata": {
        "colab": {
          "base_uri": "https://localhost:8080/"
        },
        "id": "fZwMJTF0Rkew",
        "outputId": "fe6da927-9dbb-44b3-ddee-36bd4e6d126c"
      },
      "outputs": [
        {
          "output_type": "stream",
          "name": "stdout",
          "text": [
            "          RI     Na    Mg    Al     Si     K    Ca    Ba   Fe  Type\n",
            "0    1.52101  13.64  4.49  1.10  71.78  0.06  8.75  0.00  0.0     1\n",
            "1    1.51761  13.89  3.60  1.36  72.73  0.48  7.83  0.00  0.0     1\n",
            "2    1.51618  13.53  3.55  1.54  72.99  0.39  7.78  0.00  0.0     1\n",
            "3    1.51766  13.21  3.69  1.29  72.61  0.57  8.22  0.00  0.0     1\n",
            "4    1.51742  13.27  3.62  1.24  73.08  0.55  8.07  0.00  0.0     1\n",
            "..       ...    ...   ...   ...    ...   ...   ...   ...  ...   ...\n",
            "209  1.51623  14.14  0.00  2.88  72.61  0.08  9.18  1.06  0.0     7\n",
            "210  1.51685  14.92  0.00  1.99  73.06  0.00  8.40  1.59  0.0     7\n",
            "211  1.52065  14.36  0.00  2.02  73.42  0.00  8.44  1.64  0.0     7\n",
            "212  1.51651  14.38  0.00  1.94  73.61  0.00  8.48  1.57  0.0     7\n",
            "213  1.51711  14.23  0.00  2.08  73.36  0.00  8.62  1.67  0.0     7\n",
            "\n",
            "[214 rows x 10 columns]\n"
          ]
        }
      ],
      "source": [
        "#Read Glass CSV File\n",
        "import pandas as pd\n",
        "\n",
        "# Read the CSV file\n",
        "df = pd.read_csv('glass.csv')\n",
        "\n",
        "# Display the contents of the DataFrame\n",
        "print(df)"
      ]
    },
    {
      "cell_type": "code",
      "source": [
        "from sklearn.naive_bayes import GaussianNB\n",
        "from sklearn.metrics import classification_report\n",
        "\n",
        "\n",
        "# Split the dataset into features and target variable\n",
        "X = df.drop('Type', axis=1)\n",
        "y = df['Type']\n",
        "\n",
        "# Split the data into training and testing sets\n",
        "X_train, X_test, y_train, y_test = train_test_split(X, y, test_size=0.2, random_state=42)\n",
        "\n",
        "\n",
        "# Initialize the Naïve Bayes model\n",
        "nb_model = GaussianNB()\n",
        "\n",
        "# Train the model\n",
        "nb_model.fit(X_train, y_train)\n",
        "\n",
        "# Make predictions\n",
        "y_pred = nb_model.predict(X_test)\n",
        "\n",
        "# Evaluate the model\n",
        "accuracy = nb_model.score(X_test, y_test)\n",
        "print(\"Accuracy:\", accuracy)\n",
        "\n",
        "print(classification_report(y_test, y_pred))"
      ],
      "metadata": {
        "colab": {
          "base_uri": "https://localhost:8080/"
        },
        "id": "zGokObgMenx6",
        "outputId": "d6af3fde-b929-4a8c-f400-83ede1bd12b1"
      },
      "execution_count": 22,
      "outputs": [
        {
          "output_type": "stream",
          "name": "stdout",
          "text": [
            "Accuracy: 0.5581395348837209\n",
            "              precision    recall  f1-score   support\n",
            "\n",
            "           1       0.41      0.64      0.50        11\n",
            "           2       0.43      0.21      0.29        14\n",
            "           3       0.40      0.67      0.50         3\n",
            "           5       0.50      0.25      0.33         4\n",
            "           6       1.00      1.00      1.00         3\n",
            "           7       0.89      1.00      0.94         8\n",
            "\n",
            "    accuracy                           0.56        43\n",
            "   macro avg       0.60      0.63      0.59        43\n",
            "weighted avg       0.55      0.56      0.53        43\n",
            "\n"
          ]
        }
      ]
    },
    {
      "cell_type": "code",
      "source": [
        "#22. Implement linear SVM method using scikit library\n",
        "#Use the same dataset above\n",
        "#Use train_test_split to create training and testing part\n",
        "#Evaluate the model on test part using score and\n",
        "#classification_report(y_true, y_pred)\n",
        "#Which algorithm you got better accuracy? Can you justify why?"
      ],
      "metadata": {
        "id": "S0KCGTvZX2LX"
      },
      "execution_count": null,
      "outputs": []
    },
    {
      "cell_type": "code",
      "source": [
        "from sklearn.model_selection import train_test_split\n",
        "from sklearn.naive_bayes import GaussianNB\n",
        "from sklearn.metrics import classification_report\n",
        "from sklearn.svm import LinearSVC\n",
        "from sklearn.svm import SVC\n",
        "# Split the dataset into features and target variable\n",
        "X = df.drop('Type', axis=1)\n",
        "y = df['Type']\n",
        "\n",
        "# Split the data into training and testing sets\n",
        "X_train, X_test, y_train, y_test = train_test_split(X, y, test_size=0.2, random_state=42)\n",
        "# Define and train the Linear SVM model\n",
        "svm_model = SVC(kernel='linear', max_iter=10000)\n",
        "svm_model.fit(X_train, y_train)\n",
        "\n",
        "\n",
        "# Make predictions on the testing data\n",
        "y_pred_svm = svm_model.predict(X_test)\n",
        "print(y_pred_svm)\n",
        "# Evaluate the SVM model\n",
        "svm_accuracy = svm_model.score(X_test, y_test)\n",
        "svm_classification_report = classification_report(y_test, y_pred_svm,  zero_division=1)\n",
        "\n",
        "# Repeat the same process for Naive Bayes model\n",
        "#from sklearn.naive_bayes import GaussianNB\n",
        "\n",
        "nb_model = GaussianNB()\n",
        "nb_model.fit(X_train, y_train)\n",
        "y_pred_nb = nb_model.predict(X_test)\n",
        "\n",
        "nb_accuracy = nb_model.score(X_test, y_test)\n",
        "nb_classification_report = classification_report(y_test, y_pred_nb,  zero_division=1)\n",
        "\n",
        "# Compare accuracies\n",
        "print(\"Linear SVM accuracy:\", svm_accuracy)\n",
        "print(\"Naive Bayes accuracy:\", nb_accuracy)\n",
        "\n",
        "# Compare classification reports\n",
        "print(\"Linear SVM classification report:\")\n",
        "print(svm_classification_report)\n",
        "\n",
        "print(\"Naive Bayes classification report:\")\n",
        "print(nb_classification_report)\n"
      ],
      "metadata": {
        "colab": {
          "base_uri": "https://localhost:8080/"
        },
        "id": "jwxUNFJFX-7A",
        "outputId": "f40e2299-38b0-4661-9653-9986bb07260c"
      },
      "execution_count": 20,
      "outputs": [
        {
          "output_type": "stream",
          "name": "stdout",
          "text": [
            "[1 7 1 7 2 2 1 1 2 2 5 5 1 2 6 5 2 1 2 6 2 7 7 7 2 2 1 1 5 1 2 2 2 2 1 7 5\n",
            " 1 1 7 2 7 1]\n",
            "Linear SVM accuracy: 0.7441860465116279\n",
            "Naive Bayes accuracy: 0.5581395348837209\n",
            "Linear SVM classification report:\n",
            "              precision    recall  f1-score   support\n",
            "\n",
            "           1       0.69      0.82      0.75        11\n",
            "           2       0.67      0.71      0.69        14\n",
            "           3       1.00      0.00      0.00         3\n",
            "           5       0.80      1.00      0.89         4\n",
            "           6       1.00      0.67      0.80         3\n",
            "           7       0.88      0.88      0.88         8\n",
            "\n",
            "    accuracy                           0.74        43\n",
            "   macro avg       0.84      0.68      0.67        43\n",
            "weighted avg       0.77      0.74      0.72        43\n",
            "\n",
            "Naive Bayes classification report:\n",
            "              precision    recall  f1-score   support\n",
            "\n",
            "           1       0.41      0.64      0.50        11\n",
            "           2       0.43      0.21      0.29        14\n",
            "           3       0.40      0.67      0.50         3\n",
            "           5       0.50      0.25      0.33         4\n",
            "           6       1.00      1.00      1.00         3\n",
            "           7       0.89      1.00      0.94         8\n",
            "\n",
            "    accuracy                           0.56        43\n",
            "   macro avg       0.60      0.63      0.59        43\n",
            "weighted avg       0.55      0.56      0.53        43\n",
            "\n"
          ]
        }
      ]
    },
    {
      "cell_type": "code",
      "source": [],
      "metadata": {
        "id": "PT5wrSPnWqeL"
      },
      "execution_count": null,
      "outputs": []
    }
  ]
}